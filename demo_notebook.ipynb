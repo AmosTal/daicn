{
 "cells": [
  {
   "cell_type": "markdown",
   "metadata": {},
   "source": [
    "# DAICN MVP Demonstration\n",
    "## Decentralized AI Computation Network"
   ]
  },
  {
   "cell_type": "code",
   "execution_count": null,
   "metadata": {},
   "source": [
    "import sys\n",
    "import os\n",
    "\n",
    "# Ensure project root is in Python path\n",
    "sys.path.insert(0, os.path.abspath('../'))\n",
    "\n",
    "from backend.ml.task_predictor import TaskPredictor\n",
    "from backend.security.basic_auth import AuthenticationManager\n",
    "from backend.task_queue.minimal_task_queue import MinimalTaskQueue\n",
    "from backend.resource_management.minimal_resource_manager import MinimalResourceManager\n",
    "from backend.error_handling.error_manager import ErrorManager, ErrorCategory"
   ]
  },
  {
   "cell_type": "markdown",
   "metadata": {},
   "source": [
    "## 1. Task Complexity Prediction"
   ]
  },
  {
   "cell_type": "code",
   "execution_count": null,
   "metadata": {},
   "source": [
    "# Initialize components\n",
    "task_predictor = TaskPredictor()\n",
    "task_queue = MinimalTaskQueue()\n",
    "resource_manager = MinimalResourceManager()\n",
    "\n",
    "# Sample tasks for demonstration\n",
    "tasks = [\n",
    "    {\"type\": \"image_classification\", \"data_size\": 1000},\n",
    "    {\"type\": \"natural_language_processing\", \"data_size\": 5000},\n",
    "    {\"type\": \"time_series_analysis\", \"data_size\": 2500}\n",
    "]\n",
    "\n",
    "# Predict task complexities\n",
    "for task in tasks:\n",
    "    complexity = task_predictor.predict_complexity(task)\n",
    "    resource_req = resource_manager.estimate_resources(complexity)\n",
    "    \n",
    "    print(f\"Task: {task['type']}\")\n",
    "    print(f\"Complexity: {complexity}\")\n",
    "    print(f\"Resource Requirements: {resource_req}\\n\")"
   ]
  },
  {
   "cell_type": "markdown",
   "metadata": {},
   "source": [
    "## 2. Authentication Demonstration"
   ]
  },
  {
   "cell_type": "code",
   "execution_count": null,
   "metadata": {},
   "source": [
    "auth_manager = AuthenticationManager()\n",
    "\n",
    "# User registration\n",
    "auth_manager.register_user(\"demo_user\", \"password123\", role=\"USER\")\n",
    "auth_manager.register_user(\"demo_provider\", \"provider456\", role=\"PROVIDER\")\n",
    "\n",
    "# Authentication attempts\n",
    "def test_authentication(username, password):\n",
    "    try:\n",
    "        user = auth_manager.authenticate_user(username, password)\n",
    "        print(f\"Authentication Successful for {username}\")\n",
    "        print(f\"User Role: {user['role']}\")\n",
    "    except Exception as e:\n",
    "        print(f\"Authentication Failed: {e}\")\n",
    "\n",
    "# Test scenarios\n",
    "test_authentication(\"demo_user\", \"password123\")\n",
    "test_authentication(\"demo_provider\", \"wrong_password\")"
   ]
  },
  {
   "cell_type": "markdown",
   "metadata": {},
   "source": [
    "## 3. Error Handling Demonstration"
   ]
  },
  {
   "cell_type": "code",
   "execution_count": null,
   "metadata": {},
   "source": [
    "error_manager = ErrorManager()\n",
    "\n",
    "# Simulate error scenarios\n",
    "async def demonstrate_error_handling():\n",
    "    # Authentication Error\n",
    "    try:\n",
    "        raise PermissionError(\"Invalid credentials\")\n",
    "    except Exception as e:\n",
    "        result = await error_manager.handle_error(e)\n",
    "        print(\"Authentication Error Handling:\", result)\n",
    "    \n",
    "    # Resource Allocation Error\n",
    "    try:\n",
    "        resource_manager.allocate_resources(\n",
    "            task_id='overload_test', \n",
    "            resource_type='CPU', \n",
    "            required_percentage=200\n",
    "        )\n",
    "    except Exception as e:\n",
    "        result = await error_manager.handle_error(e)\n",
    "        print(\"Resource Allocation Error Handling:\", result)\n",
    "\n",
    "# Run async demonstration\n",
    "import asyncio\n",
    "asyncio.run(demonstrate_error_handling())"
   ]
  }
 ],
 "metadata": {
  "kernelspec": {
   "display_name": "Python 3",
   "language": "python",
   "name": "python3"
  },
  "language_info": {
   "name": "python",
   "version": "3.11.0"
  }
 },
 "nbformat": 4,
 "nbformat_minor": 2
}
